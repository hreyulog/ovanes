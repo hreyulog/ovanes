{
 "cells": [
  {
   "cell_type": "code",
   "execution_count": null,
   "metadata": {},
   "outputs": [],
   "source": [
    "import pandas as pd\n",
    "import numpy as np\n",
    "\n",
    "df = pd.read_csv(\"./input/train.csv\",dtype={'meter_id': object, 'Values':np.float64})\n",
    "df.drop(\"Unnamed: 0\", axis=1, inplace=True)\n",
    "df[\"key\"] = df[\"meter_id\"].map(str)+\" \"+df[\"Timestamp\"].map(str)\n",
    "df"
   ]
  },
  {
   "cell_type": "code",
   "execution_count": null,
   "metadata": {},
   "outputs": [],
   "source": [
    "dt = pd.read_csv(\"./input/submission_format.csv\",dtype={'meter_id': object})\n",
    "dt[\"key\"] = dt[\"meter_id\"].map(str)+\" \"+dt[\"Timestamp\"].map(str)\n",
    "dt"
   ]
  },
  {
   "cell_type": "code",
   "execution_count": null,
   "metadata": {},
   "outputs": [],
   "source": [
    "ds = df[df[\"key\"].isin(dt[\"key\"])]\n",
    "ds.drop(\"key\", axis=1, inplace=True)"
   ]
  },
  {
   "cell_type": "code",
   "execution_count": null,
   "metadata": {},
   "outputs": [],
   "source": [
    "ds[\"diff\"] = ds[\"Values\"].diff()\n",
    "ds"
   ]
  },
  {
   "cell_type": "code",
   "execution_count": null,
   "metadata": {},
   "outputs": [],
   "source": [
    "ds.loc[ds[\"meter_id\"]==\"38_9686\",\"Values\"] = ds[ds[\"meter_id\"]==\"38_9686\"][\"diff\"]"
   ]
  },
  {
   "cell_type": "code",
   "execution_count": null,
   "metadata": {},
   "outputs": [],
   "source": [
    "ds.drop(\"diff\", axis=1, inplace=True)"
   ]
  },
  {
   "cell_type": "code",
   "execution_count": null,
   "metadata": {},
   "outputs": [],
   "source": [
    "ds.loc[(ds[\"Values\"]<-1000)|(ds[\"Values\"]>500000), \"Values\"] = np.nan\n",
    "ds.fillna(method='bfill', inplace=True)"
   ]
  },
  {
   "cell_type": "code",
   "execution_count": null,
   "metadata": {},
   "outputs": [],
   "source": [
    "for s in set(ds.meter_id):\n",
    "    ds[ds.meter_id==s].to_csv(f\"./input/clean_{s}.csv\",index=False)"
   ]
  },
  {
   "cell_type": "code",
   "execution_count": null,
   "metadata": {},
   "outputs": [],
   "source": [
    "import matplotlib.pyplot as plt\n",
    "\n",
    "ts = ds[ds[\"meter_id\"]==\"38_9686\"][\"Values\"]\n",
    "\n",
    "ts.plot()\n",
    "plt.show()"
   ]
  }
 ],
 "metadata": {
  "kernelspec": {
   "display_name": "Python [conda root]",
   "language": "python",
   "name": "conda-root-py"
  },
  "language_info": {
   "codemirror_mode": {
    "name": "ipython",
    "version": 3
   },
   "file_extension": ".py",
   "mimetype": "text/x-python",
   "name": "python",
   "nbconvert_exporter": "python",
   "pygments_lexer": "ipython3",
   "version": "3.6.4"
  }
 },
 "nbformat": 4,
 "nbformat_minor": 2
}
